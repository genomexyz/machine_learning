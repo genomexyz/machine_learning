{
 "cells": [
  {
   "cell_type": "markdown",
   "metadata": {},
   "source": [
    "# Some step you do when using supervised learning"
   ]
  },
  {
   "cell_type": "markdown",
   "metadata": {},
   "source": [
    "## 1. Loading dataset"
   ]
  },
  {
   "cell_type": "code",
   "execution_count": 1,
   "metadata": {},
   "outputs": [
    {
     "name": "stdout",
     "output_type": "stream",
     "text": [
      ".. _diabetes_dataset:\n",
      "\n",
      "Diabetes dataset\n",
      "----------------\n",
      "\n",
      "Ten baseline variables, age, sex, body mass index, average blood\n",
      "pressure, and six blood serum measurements were obtained for each of n =\n",
      "442 diabetes patients, as well as the response of interest, a\n",
      "quantitative measure of disease progression one year after baseline.\n",
      "\n",
      "**Data Set Characteristics:**\n",
      "\n",
      "  :Number of Instances: 442\n",
      "\n",
      "  :Number of Attributes: First 10 columns are numeric predictive values\n",
      "\n",
      "  :Target: Column 11 is a quantitative measure of disease progression one year after baseline\n",
      "\n",
      "  :Attribute Information:\n",
      "      - age     age in years\n",
      "      - sex\n",
      "      - bmi     body mass index\n",
      "      - bp      average blood pressure\n",
      "      - s1      tc, T-Cells (a type of white blood cells)\n",
      "      - s2      ldl, low-density lipoproteins\n",
      "      - s3      hdl, high-density lipoproteins\n",
      "      - s4      tch, thyroid stimulating hormone\n",
      "      - s5      ltg, lamotrigine\n",
      "      - s6      glu, blood sugar level\n",
      "\n",
      "Note: Each of these 10 feature variables have been mean centered and scaled by the standard deviation times `n_samples` (i.e. the sum of squares of each column totals 1).\n",
      "\n",
      "Source URL:\n",
      "https://www4.stat.ncsu.edu/~boos/var.select/diabetes.html\n",
      "\n",
      "For more information see:\n",
      "Bradley Efron, Trevor Hastie, Iain Johnstone and Robert Tibshirani (2004) \"Least Angle Regression,\" Annals of Statistics (with discussion), 407-499.\n",
      "(https://web.stanford.edu/~hastie/Papers/LARS/LeastAngle_2002.pdf)\n"
     ]
    }
   ],
   "source": [
    "from sklearn.datasets import load_iris, load_diabetes\n",
    "from sklearn.svm import SVR, SVC\n",
    "from sklearn.metrics import accuracy_score, mean_squared_error\n",
    "import pandas as pd\n",
    "import numpy as np\n",
    "import random\n",
    "\n",
    "\n",
    "iris = load_iris() #for classification\n",
    "diabetes = load_diabetes() #for regression\n",
    "print(diabetes['DESCR'])"
   ]
  },
  {
   "cell_type": "code",
   "execution_count": 2,
   "metadata": {},
   "outputs": [
    {
     "name": "stdout",
     "output_type": "stream",
     "text": [
      ".. _iris_dataset:\n",
      "\n",
      "Iris plants dataset\n",
      "--------------------\n",
      "\n",
      "**Data Set Characteristics:**\n",
      "\n",
      "    :Number of Instances: 150 (50 in each of three classes)\n",
      "    :Number of Attributes: 4 numeric, predictive attributes and the class\n",
      "    :Attribute Information:\n",
      "        - sepal length in cm\n",
      "        - sepal width in cm\n",
      "        - petal length in cm\n",
      "        - petal width in cm\n",
      "        - class:\n",
      "                - Iris-Setosa\n",
      "                - Iris-Versicolour\n",
      "                - Iris-Virginica\n",
      "                \n",
      "    :Summary Statistics:\n",
      "\n",
      "    ============== ==== ==== ======= ===== ====================\n",
      "                    Min  Max   Mean    SD   Class Correlation\n",
      "    ============== ==== ==== ======= ===== ====================\n",
      "    sepal length:   4.3  7.9   5.84   0.83    0.7826\n",
      "    sepal width:    2.0  4.4   3.05   0.43   -0.4194\n",
      "    petal length:   1.0  6.9   3.76   1.76    0.9490  (high!)\n",
      "    petal width:    0.1  2.5   1.20   0.76    0.9565  (high!)\n",
      "    ============== ==== ==== ======= ===== ====================\n",
      "\n",
      "    :Missing Attribute Values: None\n",
      "    :Class Distribution: 33.3% for each of 3 classes.\n",
      "    :Creator: R.A. Fisher\n",
      "    :Donor: Michael Marshall (MARSHALL%PLU@io.arc.nasa.gov)\n",
      "    :Date: July, 1988\n",
      "\n",
      "The famous Iris database, first used by Sir R.A. Fisher. The dataset is taken\n",
      "from Fisher's paper. Note that it's the same as in R, but not as in the UCI\n",
      "Machine Learning Repository, which has two wrong data points.\n",
      "\n",
      "This is perhaps the best known database to be found in the\n",
      "pattern recognition literature.  Fisher's paper is a classic in the field and\n",
      "is referenced frequently to this day.  (See Duda & Hart, for example.)  The\n",
      "data set contains 3 classes of 50 instances each, where each class refers to a\n",
      "type of iris plant.  One class is linearly separable from the other 2; the\n",
      "latter are NOT linearly separable from each other.\n",
      "\n",
      ".. topic:: References\n",
      "\n",
      "   - Fisher, R.A. \"The use of multiple measurements in taxonomic problems\"\n",
      "     Annual Eugenics, 7, Part II, 179-188 (1936); also in \"Contributions to\n",
      "     Mathematical Statistics\" (John Wiley, NY, 1950).\n",
      "   - Duda, R.O., & Hart, P.E. (1973) Pattern Classification and Scene Analysis.\n",
      "     (Q327.D83) John Wiley & Sons.  ISBN 0-471-22361-1.  See page 218.\n",
      "   - Dasarathy, B.V. (1980) \"Nosing Around the Neighborhood: A New System\n",
      "     Structure and Classification Rule for Recognition in Partially Exposed\n",
      "     Environments\".  IEEE Transactions on Pattern Analysis and Machine\n",
      "     Intelligence, Vol. PAMI-2, No. 1, 67-71.\n",
      "   - Gates, G.W. (1972) \"The Reduced Nearest Neighbor Rule\".  IEEE Transactions\n",
      "     on Information Theory, May 1972, 431-433.\n",
      "   - See also: 1988 MLC Proceedings, 54-64.  Cheeseman et al\"s AUTOCLASS II\n",
      "     conceptual clustering system finds 3 classes in the data.\n",
      "   - Many, many more ...\n"
     ]
    }
   ],
   "source": [
    "print(iris['DESCR'])"
   ]
  },
  {
   "cell_type": "code",
   "execution_count": 3,
   "metadata": {},
   "outputs": [
    {
     "name": "stdout",
     "output_type": "stream",
     "text": [
      "120 30\n",
      "412 30\n"
     ]
    }
   ],
   "source": [
    "feature_iris = iris['data']\n",
    "label_iris = iris['target']\n",
    "\n",
    "feature_diabetes = diabetes['data']\n",
    "label_diabetes = diabetes['target']\n",
    "\n",
    "#randomizer\n",
    "idx_iris_random = np.arange(len(label_iris))\n",
    "idx_diabetes_random = np.arange(len(label_diabetes))\n",
    "random.shuffle(idx_iris_random)\n",
    "random.shuffle(idx_diabetes_random)\n",
    "\n",
    "feature_iris = feature_iris[idx_iris_random]\n",
    "label_iris = label_iris[idx_iris_random]\n",
    "\n",
    "feature_diabetes = feature_diabetes[idx_diabetes_random]\n",
    "label_diabetes = label_diabetes[idx_diabetes_random]\n",
    "\n",
    "#divide dataset into 4 parts\n",
    "train_feature_iris = feature_iris[:-30]\n",
    "train_label_iris = label_iris[:-30]\n",
    "test_feature_iris = feature_iris[-30:]\n",
    "test_label_iris = label_iris[-30:]\n",
    "\n",
    "train_feature_diabetes = feature_diabetes[:-30]\n",
    "train_label_diabetes = label_diabetes[:-30]\n",
    "test_feature_diabetes = feature_diabetes[-30:]\n",
    "test_label_diabetes = label_diabetes[-30:]\n",
    "\n",
    "print(len(train_label_iris), len(test_label_iris))\n",
    "print(len(train_label_diabetes), len(test_label_diabetes))"
   ]
  },
  {
   "cell_type": "markdown",
   "metadata": {},
   "source": [
    "## 2. Rescaling the dataset"
   ]
  },
  {
   "cell_type": "code",
   "execution_count": 4,
   "metadata": {},
   "outputs": [],
   "source": [
    "iris_feature_mean = np.zeros(len(feature_iris[0]))\n",
    "diabetes_feature_mean = np.zeros(len(feature_diabetes[0]))\n",
    "\n",
    "iris_feature_sd = np.zeros(len(feature_iris[0]))\n",
    "diabetes_feature_sd = np.zeros(len(feature_diabetes[0]))\n",
    "\n",
    "train_feature_iris_res = np.copy(train_feature_iris)\n",
    "test_feature_iris_res = np.copy(test_feature_iris)\n",
    "\n",
    "#train_feature_diabetes_res = np.copy(train_feature_diabetes)\n",
    "#test_feature_diabetes_res = np.copy(test_feature_diabetes)\n",
    "\n",
    "for i in range(len(feature_iris[0])):\n",
    "    iris_feature_mean[i] = np.mean(train_feature_iris[:,i])\n",
    "    iris_feature_sd[i] = np.std(train_feature_iris[:,i])\n",
    "    train_feature_iris_res[:,i] = (train_feature_iris[:,i] - iris_feature_mean[i]) / iris_feature_sd[i]\n",
    "    test_feature_iris_res[:,i] = (test_feature_iris[:,i] - iris_feature_mean[i]) / iris_feature_sd[i]\n",
    "\n",
    "for i in range(len(feature_diabetes[0])):\n",
    "    diabetes_feature_mean[i] = np.mean(train_feature_diabetes[:,i])\n",
    "    diabetes_feature_sd[i] = np.std(train_feature_diabetes[:,i])\n",
    "#    train_feature_diabetes_res[:,i] = (train_feature_diabetes - diabetes_feature_mean[i]) / diabetes_feature_sd[i]\n",
    "#    test_feature_diabetes_res = (test_feature_diabetes - diabetes_feature_mean[i]) / diabetes_feature_sd[i]\n",
    "\n",
    "diabetes_label_mean = np.mean(train_label_diabetes)\n",
    "diabetes_label_sd = np.std(train_label_diabetes)\n",
    "\n",
    "train_label_diabetes_res = (train_label_diabetes - diabetes_label_mean) / diabetes_label_sd\n",
    "test_label_diabetes_res = (test_label_diabetes - diabetes_label_mean) / diabetes_label_sd"
   ]
  },
  {
   "cell_type": "markdown",
   "metadata": {},
   "source": [
    "## 2,5. Encoding categorial data (if any)"
   ]
  },
  {
   "cell_type": "markdown",
   "metadata": {},
   "source": [
    "## 3. Define the model"
   ]
  },
  {
   "cell_type": "code",
   "execution_count": 5,
   "metadata": {},
   "outputs": [],
   "source": [
    "iris_model = SVC(gamma='auto')\n",
    "diabetes_model = SVR(C=1.0, epsilon=0.2)"
   ]
  },
  {
   "cell_type": "markdown",
   "metadata": {},
   "source": [
    "## 4. Fitting/Training the model"
   ]
  },
  {
   "cell_type": "code",
   "execution_count": 6,
   "metadata": {},
   "outputs": [
    {
     "data": {
      "text/plain": [
       "SVR(epsilon=0.2)"
      ]
     },
     "execution_count": 6,
     "metadata": {},
     "output_type": "execute_result"
    }
   ],
   "source": [
    "iris_model.fit(train_feature_iris_res, train_label_iris)\n",
    "diabetes_model.fit(train_feature_diabetes, train_label_diabetes_res)"
   ]
  },
  {
   "cell_type": "markdown",
   "metadata": {},
   "source": [
    "## 5. Predict using fitted model"
   ]
  },
  {
   "cell_type": "code",
   "execution_count": 7,
   "metadata": {},
   "outputs": [
    {
     "name": "stdout",
     "output_type": "stream",
     "text": [
      "iris prediction and test label\n",
      "[2 0 1 1 2 0 0 0 2 1 1 0 2 2 2 0 2 0 1 0 0 1 0 0 0 2 1 0 1 1]\n",
      "[2 0 1 1 2 0 0 0 1 1 1 0 2 2 2 0 2 0 1 0 0 2 0 0 0 2 1 0 1 1]\n",
      "\n",
      "diabetes prediction and test label\n",
      "[170. 192. 136. 136.  99.  64. 171. 136. 110. 172. 101. 154. 173. 119.\n",
      " 199. 100. 135. 114.  97. 202. 144. 112. 167.  78. 102.  63. 105. 274.\n",
      "  71. 148.]\n",
      "[122.  90. 185. 142. 200.  51. 110. 146.  96. 244.  37. 170. 200.  88.\n",
      " 273. 182.  97.  72.  99. 198. 155. 144.  91.  75.  50.  83.  64. 264.\n",
      "  78. 163.]\n"
     ]
    }
   ],
   "source": [
    "iris_prediction = iris_model.predict(test_feature_iris_res)\n",
    "diabetes_prediction_sr = diabetes_model.predict(test_feature_diabetes)\n",
    "\n",
    "diabetes_prediction = diabetes_prediction_sr * diabetes_label_sd + diabetes_label_mean\n",
    "diabetes_prediction = np.around(diabetes_prediction)\n",
    "\n",
    "print('iris prediction and test label')\n",
    "print(iris_prediction)\n",
    "print(test_label_iris)\n",
    "print()\n",
    "print('diabetes prediction and test label')\n",
    "print(diabetes_prediction)\n",
    "print(test_label_diabetes)\n"
   ]
  },
  {
   "cell_type": "markdown",
   "metadata": {},
   "source": [
    "## 6. Calculate the model performance"
   ]
  },
  {
   "cell_type": "code",
   "execution_count": 8,
   "metadata": {},
   "outputs": [
    {
     "name": "stdout",
     "output_type": "stream",
     "text": [
      "iris accuracy 0.9333333333333333\n",
      "diabetes rmse 47.70569497799328\n"
     ]
    }
   ],
   "source": [
    "#calc iris prediction accuracy\n",
    "iris_accuracy = accuracy_score(test_label_iris, iris_prediction)\n",
    "print('iris accuracy', iris_accuracy)\n",
    "\n",
    "#calc diabetes prediction rmse\n",
    "diabetes_rmse = mean_squared_error(diabetes_prediction, test_label_diabetes, squared=False)\n",
    "print('diabetes rmse', diabetes_rmse)"
   ]
  },
  {
   "cell_type": "code",
   "execution_count": null,
   "metadata": {},
   "outputs": [],
   "source": []
  }
 ],
 "metadata": {
  "kernelspec": {
   "display_name": "Python 3",
   "language": "python",
   "name": "python3"
  },
  "language_info": {
   "codemirror_mode": {
    "name": "ipython",
    "version": 3
   },
   "file_extension": ".py",
   "mimetype": "text/x-python",
   "name": "python",
   "nbconvert_exporter": "python",
   "pygments_lexer": "ipython3",
   "version": "3.8.5"
  }
 },
 "nbformat": 4,
 "nbformat_minor": 4
}
